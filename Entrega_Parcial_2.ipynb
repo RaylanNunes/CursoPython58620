{
 "cells": [
  {
   "cell_type": "code",
   "execution_count": null,
   "metadata": {},
   "outputs": [],
   "source": [
    "import requests\n",
    "import pandas as pd\n",
    "\n",
    "# Função para fazer a requisição à API e extrair as tabelas\n",
    "def extrair_dados():\n",
    "    try:\n",
    "        response = requests.get('https://brasilapi.com.br/api/banks/v1')\n",
    "        response.raise_for_status() # Lança uma exceção se a resposta não for bem-sucedida\n",
    "        \n",
    "        data = response.json()\n",
    "\n",
    "        # Converter para DataFrame\n",
    "        df = pd.DataFrame(data)\n",
    "\n",
    "        # Ajuste dos nomes das colunas\n",
    "        df.columns = ['Código', 'Nome', 'ISPB']\n",
    "\n",
    "        # Filtros de linhas e colunas, se necessário\n",
    "        # Aqui vamos assumir que não há filtros necessários para esse exemplo\n",
    "\n",
    "        # Tratamento do tipo das variáveis\n",
    "        df['Código'] = df['Código'].astype(str)\n",
    "\n",
    "        # Ajuste de missing (não parece ser necessário neste caso)\n",
    "\n",
    "        # Tratamento de colunas string\n",
    "        df['Nome'] = df['Nome'].str.strip()\n",
    "\n",
    "        # Exibindo as informações\n",
    "        print('DataFrame original:')\n",
    "        print(df)\n",
    "\n",
    "        # Chamando a função alerta em caso de sucesso\n",
    "        alerta('Dados extraídos com sucesso!')\n",
    "    except Exception as e:\n",
    "        # Em caso de erro, exibir mensagem de erro e chamar a função alerta\n",
    "        print('Erro ao extrair dados:', str(e))\n",
    "        alerta('Erro ao extrair dados da API')\n",
    "\n",
    "# Função de alerta\n",
    "def alerta(mensagem):\n",
    "    # Implementação da função alerta, aqui você pode adaptar conforme necessário\n",
    "    print('Alerta:', mensagem)\n",
    "\n",
    "# Chamando a função para extrair os dados\n",
    "extrair_dados()\n"
   ]
  }
 ],
 "metadata": {
  "kernelspec": {
   "display_name": "Python 3",
   "language": "python",
   "name": "python3"
  },
  "language_info": {
   "codemirror_mode": {
    "name": "ipython",
    "version": 3
   },
   "file_extension": ".py",
   "mimetype": "text/x-python",
   "name": "python",
   "nbconvert_exporter": "python",
   "pygments_lexer": "ipython3",
   "version": "3.12.1"
  }
 },
 "nbformat": 4,
 "nbformat_minor": 2
}
