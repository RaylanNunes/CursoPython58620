{
 "cells": [
  {
   "cell_type": "code",
   "execution_count": null,
   "metadata": {},
   "outputs": [],
   "source": [
    "pip install requests\n"
   ]
  },
  {
   "cell_type": "code",
   "execution_count": null,
   "metadata": {},
   "outputs": [],
   "source": [
    "pip install sqlalchemy\n"
   ]
  },
  {
   "cell_type": "code",
   "execution_count": null,
   "metadata": {},
   "outputs": [],
   "source": [
    "pip install plyer\n"
   ]
  },
  {
   "cell_type": "code",
   "execution_count": 92,
   "metadata": {},
   "outputs": [],
   "source": [
    "import requests\n",
    "from plyer import notification\n",
    "\n",
    "# Função para exibir uma notificação na tela\n",
    "def exibir_notificacao():\n",
    "    # Título e mensagem da notificação\n",
    "    titulo = \"Alerta\"\n",
    "    mensagem = \"Houve uma falha ao fazer a requisição à API. Verifique o status da conexão.\"\n",
    "    \n",
    "    # Exibir a notificação\n",
    "    notification.notify(\n",
    "        title=titulo,\n",
    "        message=mensagem,\n",
    "        timeout=10  # timeout define a duração da notificação\n",
    "    )\n",
    "\n",
    "# URL da API\n",
    "url = \"https://brasilapi.com.br/api/banks/v1\"\n",
    "\n",
    "# Fazendo a requisição para a API\n",
    "response = requests.get(url)\n",
    "\n",
    "# Verificando se a requisição foi bem-sucedida (status code 200)\n",
    "if response.status_code == 200:\n",
    "    # Convertendo a resposta para JSON\n",
    "    data = response.json()\n",
    "\n",
    "    # Extraindo dados para a tabela de bancos\n",
    "    banks_table = []\n",
    "    for bank in data:\n",
    "        banks_table.append({\n",
    "            \"Nome\": bank.get(\"name\", \"\"),\n",
    "            \"Código\": bank.get(\"code\", \"\"),\n",
    "            \"ISPB\": bank.get(\"ispb\", \"\")\n",
    "        })\n",
    "\n",
    "    # Criar DataFrame a partir dos dados extraídos para a tabela de bancos\n",
    "    df_bancos = pd.DataFrame(banks_table)\n",
    "\n",
    "    # Tratamento de valores ausentes para a tabela de bancos\n",
    "    df_bancos.fillna({'Nome': 'Sem nome', 'Código': 'N/A', 'ISPB': 'Desconhecido'}, inplace=True)\n",
    "\n",
    "    # Remover duplicatas, se houver, na tabela de bancos\n",
    "    df_bancos.drop_duplicates(inplace=True)\n",
    "\n",
    "else:\n",
    "    print(\"Falha ao fazer a requisição à API\")\n",
    "    # Se houver uma falha na requisição, exibe uma notificação de alerta\n",
    "    exibir_notificacao()"
   ]
  },
  {
   "cell_type": "code",
   "execution_count": 76,
   "metadata": {},
   "outputs": [],
   "source": [
    "import pandas as pd\n",
    "import pyodbc"
   ]
  },
  {
   "cell_type": "code",
   "execution_count": 77,
   "metadata": {},
   "outputs": [],
   "source": [
    "conn_str = (\n",
    "    r'DRIVER={ODBC Driver 17 for SQL Server};'\n",
    "    r'SERVER=DESKTOP-1MBU4JV\\SQLEXPRESS;'\n",
    "    r'DATABASE=PROJETO_PYTHON;'\n",
    "    r'Trusted_Connection=yes;'\n",
    ")"
   ]
  },
  {
   "cell_type": "code",
   "execution_count": 78,
   "metadata": {},
   "outputs": [],
   "source": [
    "conn = pyodbc.connect(conn_str)\n"
   ]
  },
  {
   "cell_type": "code",
   "execution_count": 81,
   "metadata": {},
   "outputs": [
    {
     "name": "stdout",
     "output_type": "stream",
     "text": [
      "                           Nome Código      ISPB\n",
      "0            BCO DO BRASIL S.A.    1.0  00000000\n",
      "1    BRB - BCO DE BRASILIA S.A.   70.0  00000208\n",
      "2                         Selic    N/A  00038121\n",
      "3                         Bacen    N/A  00038166\n",
      "4         SANTINVEST S.A. - CFI  539.0  00122327\n",
      "..                          ...    ...       ...\n",
      "353           BCO DIGIMAIS S.A.  654.0  92874270\n",
      "354            WARREN CVMC LTDA  371.0  92875780\n",
      "355              BANCO ORIGINAL  212.0  92894922\n",
      "356                EFX CC LTDA.  289.0  94968518\n",
      "357                                N/A          \n",
      "\n",
      "[358 rows x 3 columns]\n"
     ]
    }
   ],
   "source": [
    "print(df_bancos)\n"
   ]
  },
  {
   "cell_type": "code",
   "execution_count": 82,
   "metadata": {},
   "outputs": [
    {
     "name": "stderr",
     "output_type": "stream",
     "text": [
      "<>:5: SyntaxWarning: invalid escape sequence '\\S'\n",
      "<>:5: SyntaxWarning: invalid escape sequence '\\S'\n",
      "C:\\Users\\rayla\\AppData\\Local\\Temp\\ipykernel_15816\\4144584760.py:5: SyntaxWarning: invalid escape sequence '\\S'\n",
      "  server = 'DESKTOP-1MBU4JV\\SQLEXPRESS'\n"
     ]
    },
    {
     "name": "stdout",
     "output_type": "stream",
     "text": [
      "                           Nome Código      ISPB\n",
      "0            BCO DO BRASIL S.A.    1.0  00000000\n",
      "1    BRB - BCO DE BRASILIA S.A.   70.0  00000208\n",
      "2                         Selic    N/A  00038121\n",
      "3                         Bacen    N/A  00038166\n",
      "4         SANTINVEST S.A. - CFI  539.0  00122327\n",
      "..                          ...    ...       ...\n",
      "353           BCO DIGIMAIS S.A.  654.0  92874270\n",
      "354            WARREN CVMC LTDA  371.0  92875780\n",
      "355              BANCO ORIGINAL  212.0  92894922\n",
      "356                EFX CC LTDA.  289.0  94968518\n",
      "357                                N/A          \n",
      "\n",
      "[358 rows x 3 columns]\n"
     ]
    }
   ],
   "source": [
    "import pandas as pd\n",
    "from sqlalchemy import create_engine\n",
    "\n",
    "# Conexão com o banco de dados SQL\n",
    "server = 'DESKTOP-1MBU4JV\\SQLEXPRESS'\n",
    "database = 'PROJETO_PYTHON'\n",
    "driver = 'ODBC+Driver+17+for+SQL+Server'\n",
    "\n",
    "# Crie a string de conexão com autenticação do Windows\n",
    "connection_string = f'mssql+pyodbc://@{server}/{database}?trusted_connection=yes&driver={driver}'\n",
    "engine = create_engine(connection_string)\n",
    "\n",
    "# Nome da tabela para importar os dados\n",
    "table_name = 'Bancos'\n",
    "\n",
    "# Importe o DataFrame para o SQL Server\n",
    "df_bancos.to_sql(table_name, con=engine, if_exists='replace', index=False)\n",
    "\n",
    "# Executando uma consulta SQL para visualizar os dados na tabela\n",
    "df_from_sql = pd.read_sql_table(table_name, con=engine)\n",
    "print(df_from_sql)"
   ]
  }
 ],
 "metadata": {
  "kernelspec": {
   "display_name": "Python 3",
   "language": "python",
   "name": "python3"
  },
  "language_info": {
   "codemirror_mode": {
    "name": "ipython",
    "version": 3
   },
   "file_extension": ".py",
   "mimetype": "text/x-python",
   "name": "python",
   "nbconvert_exporter": "python",
   "pygments_lexer": "ipython3",
   "version": "3.12.1"
  }
 },
 "nbformat": 4,
 "nbformat_minor": 2
}
